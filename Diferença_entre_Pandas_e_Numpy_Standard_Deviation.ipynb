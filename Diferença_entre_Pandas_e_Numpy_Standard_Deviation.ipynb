{
  "cells": [
    {
      "cell_type": "markdown",
      "metadata": {
        "id": "view-in-github",
        "colab_type": "text"
      },
      "source": [
        "<a href=\"https://colab.research.google.com/github/victorncg/rascunhos/blob/main/Diferen%C3%A7a_entre_Pandas_e_Numpy_Standard_Deviation.ipynb\" target=\"_parent\"><img src=\"https://colab.research.google.com/assets/colab-badge.svg\" alt=\"Open In Colab\"/></a>"
      ]
    },
    {
      "cell_type": "markdown",
      "metadata": {
        "id": "jW2HA38bLH46"
      },
      "source": [
        "<img src=\"https://tradingcomdados.com/images/logotipo/logotipo-trading-com-dados.svg\" width=\"300\" align=\"left\"/>"
      ]
    },
    {
      "cell_type": "code",
      "source": [
        "!pip install yfinance"
      ],
      "metadata": {
        "id": "BF0ERWvV4uAe"
      },
      "execution_count": null,
      "outputs": []
    },
    {
      "cell_type": "code",
      "source": [
        "import yfinance as yf\n",
        "import numpy as np\n",
        "import pandas as pd"
      ],
      "metadata": {
        "id": "LKuvCmqW4vG4"
      },
      "execution_count": 2,
      "outputs": []
    },
    {
      "cell_type": "code",
      "source": [
        "yf.download('WEGE3.SA', start = '2022-07-01')"
      ],
      "metadata": {
        "colab": {
          "base_uri": "https://localhost:8080/",
          "height": 568
        },
        "id": "jnaH7pAY45eB",
        "outputId": "08c7b9f8-f80c-4fa3-80be-32f3e1f89fc4"
      },
      "execution_count": 3,
      "outputs": [
        {
          "output_type": "stream",
          "name": "stdout",
          "text": [
            "\r[*********************100%***********************]  1 of 1 completed\n"
          ]
        },
        {
          "output_type": "execute_result",
          "data": {
            "text/plain": [
              "                 Open       High        Low      Close  Adj Close    Volume\n",
              "Date                                                                       \n",
              "2022-07-01  26.450001  26.889999  25.889999  26.500000  26.500000   7334800\n",
              "2022-07-04  26.490000  26.940001  26.430000  26.490000  26.490000   4041600\n",
              "2022-07-05  26.309999  27.200001  26.110001  27.020000  27.020000   9210200\n",
              "2022-07-06  27.110001  28.049999  26.920000  27.100000  27.100000  11535800\n",
              "2022-07-07  27.260000  27.790001  26.799999  27.610001  27.610001   8539800\n",
              "2022-07-08  27.610001  27.650000  26.809999  27.270000  27.270000   5482100\n",
              "2022-07-11  26.889999  26.950001  26.370001  26.580000  26.580000   6136000\n",
              "2022-07-12  26.530001  26.870001  26.370001  26.590000  26.590000   5197000\n",
              "2022-07-13  26.330000  27.090000  25.950001  26.730000  26.730000   7119900\n",
              "2022-07-14  26.440001  26.830000  26.040001  26.400000  26.400000   6633600\n",
              "2022-07-15  26.389999  26.790001  25.850000  26.549999  26.549999   6464800\n",
              "2022-07-18  26.900000  27.180000  26.020000  26.120001  26.120001   6260100\n",
              "2022-07-19  26.250000  27.150000  26.110001  26.959999  26.959999   7068400\n",
              "2022-07-20  27.000000  27.180000  25.770000  25.990000  25.990000  14736400\n",
              "2022-07-21  26.049999  26.070000  25.010000  25.330000  25.330000  12094900"
            ],
            "text/html": [
              "\n",
              "  <div id=\"df-732c69c5-3685-419a-84bf-34faceee5706\">\n",
              "    <div class=\"colab-df-container\">\n",
              "      <div>\n",
              "<style scoped>\n",
              "    .dataframe tbody tr th:only-of-type {\n",
              "        vertical-align: middle;\n",
              "    }\n",
              "\n",
              "    .dataframe tbody tr th {\n",
              "        vertical-align: top;\n",
              "    }\n",
              "\n",
              "    .dataframe thead th {\n",
              "        text-align: right;\n",
              "    }\n",
              "</style>\n",
              "<table border=\"1\" class=\"dataframe\">\n",
              "  <thead>\n",
              "    <tr style=\"text-align: right;\">\n",
              "      <th></th>\n",
              "      <th>Open</th>\n",
              "      <th>High</th>\n",
              "      <th>Low</th>\n",
              "      <th>Close</th>\n",
              "      <th>Adj Close</th>\n",
              "      <th>Volume</th>\n",
              "    </tr>\n",
              "    <tr>\n",
              "      <th>Date</th>\n",
              "      <th></th>\n",
              "      <th></th>\n",
              "      <th></th>\n",
              "      <th></th>\n",
              "      <th></th>\n",
              "      <th></th>\n",
              "    </tr>\n",
              "  </thead>\n",
              "  <tbody>\n",
              "    <tr>\n",
              "      <th>2022-07-01</th>\n",
              "      <td>26.450001</td>\n",
              "      <td>26.889999</td>\n",
              "      <td>25.889999</td>\n",
              "      <td>26.500000</td>\n",
              "      <td>26.500000</td>\n",
              "      <td>7334800</td>\n",
              "    </tr>\n",
              "    <tr>\n",
              "      <th>2022-07-04</th>\n",
              "      <td>26.490000</td>\n",
              "      <td>26.940001</td>\n",
              "      <td>26.430000</td>\n",
              "      <td>26.490000</td>\n",
              "      <td>26.490000</td>\n",
              "      <td>4041600</td>\n",
              "    </tr>\n",
              "    <tr>\n",
              "      <th>2022-07-05</th>\n",
              "      <td>26.309999</td>\n",
              "      <td>27.200001</td>\n",
              "      <td>26.110001</td>\n",
              "      <td>27.020000</td>\n",
              "      <td>27.020000</td>\n",
              "      <td>9210200</td>\n",
              "    </tr>\n",
              "    <tr>\n",
              "      <th>2022-07-06</th>\n",
              "      <td>27.110001</td>\n",
              "      <td>28.049999</td>\n",
              "      <td>26.920000</td>\n",
              "      <td>27.100000</td>\n",
              "      <td>27.100000</td>\n",
              "      <td>11535800</td>\n",
              "    </tr>\n",
              "    <tr>\n",
              "      <th>2022-07-07</th>\n",
              "      <td>27.260000</td>\n",
              "      <td>27.790001</td>\n",
              "      <td>26.799999</td>\n",
              "      <td>27.610001</td>\n",
              "      <td>27.610001</td>\n",
              "      <td>8539800</td>\n",
              "    </tr>\n",
              "    <tr>\n",
              "      <th>2022-07-08</th>\n",
              "      <td>27.610001</td>\n",
              "      <td>27.650000</td>\n",
              "      <td>26.809999</td>\n",
              "      <td>27.270000</td>\n",
              "      <td>27.270000</td>\n",
              "      <td>5482100</td>\n",
              "    </tr>\n",
              "    <tr>\n",
              "      <th>2022-07-11</th>\n",
              "      <td>26.889999</td>\n",
              "      <td>26.950001</td>\n",
              "      <td>26.370001</td>\n",
              "      <td>26.580000</td>\n",
              "      <td>26.580000</td>\n",
              "      <td>6136000</td>\n",
              "    </tr>\n",
              "    <tr>\n",
              "      <th>2022-07-12</th>\n",
              "      <td>26.530001</td>\n",
              "      <td>26.870001</td>\n",
              "      <td>26.370001</td>\n",
              "      <td>26.590000</td>\n",
              "      <td>26.590000</td>\n",
              "      <td>5197000</td>\n",
              "    </tr>\n",
              "    <tr>\n",
              "      <th>2022-07-13</th>\n",
              "      <td>26.330000</td>\n",
              "      <td>27.090000</td>\n",
              "      <td>25.950001</td>\n",
              "      <td>26.730000</td>\n",
              "      <td>26.730000</td>\n",
              "      <td>7119900</td>\n",
              "    </tr>\n",
              "    <tr>\n",
              "      <th>2022-07-14</th>\n",
              "      <td>26.440001</td>\n",
              "      <td>26.830000</td>\n",
              "      <td>26.040001</td>\n",
              "      <td>26.400000</td>\n",
              "      <td>26.400000</td>\n",
              "      <td>6633600</td>\n",
              "    </tr>\n",
              "    <tr>\n",
              "      <th>2022-07-15</th>\n",
              "      <td>26.389999</td>\n",
              "      <td>26.790001</td>\n",
              "      <td>25.850000</td>\n",
              "      <td>26.549999</td>\n",
              "      <td>26.549999</td>\n",
              "      <td>6464800</td>\n",
              "    </tr>\n",
              "    <tr>\n",
              "      <th>2022-07-18</th>\n",
              "      <td>26.900000</td>\n",
              "      <td>27.180000</td>\n",
              "      <td>26.020000</td>\n",
              "      <td>26.120001</td>\n",
              "      <td>26.120001</td>\n",
              "      <td>6260100</td>\n",
              "    </tr>\n",
              "    <tr>\n",
              "      <th>2022-07-19</th>\n",
              "      <td>26.250000</td>\n",
              "      <td>27.150000</td>\n",
              "      <td>26.110001</td>\n",
              "      <td>26.959999</td>\n",
              "      <td>26.959999</td>\n",
              "      <td>7068400</td>\n",
              "    </tr>\n",
              "    <tr>\n",
              "      <th>2022-07-20</th>\n",
              "      <td>27.000000</td>\n",
              "      <td>27.180000</td>\n",
              "      <td>25.770000</td>\n",
              "      <td>25.990000</td>\n",
              "      <td>25.990000</td>\n",
              "      <td>14736400</td>\n",
              "    </tr>\n",
              "    <tr>\n",
              "      <th>2022-07-21</th>\n",
              "      <td>26.049999</td>\n",
              "      <td>26.070000</td>\n",
              "      <td>25.010000</td>\n",
              "      <td>25.330000</td>\n",
              "      <td>25.330000</td>\n",
              "      <td>12094900</td>\n",
              "    </tr>\n",
              "  </tbody>\n",
              "</table>\n",
              "</div>\n",
              "      <button class=\"colab-df-convert\" onclick=\"convertToInteractive('df-732c69c5-3685-419a-84bf-34faceee5706')\"\n",
              "              title=\"Convert this dataframe to an interactive table.\"\n",
              "              style=\"display:none;\">\n",
              "        \n",
              "  <svg xmlns=\"http://www.w3.org/2000/svg\" height=\"24px\"viewBox=\"0 0 24 24\"\n",
              "       width=\"24px\">\n",
              "    <path d=\"M0 0h24v24H0V0z\" fill=\"none\"/>\n",
              "    <path d=\"M18.56 5.44l.94 2.06.94-2.06 2.06-.94-2.06-.94-.94-2.06-.94 2.06-2.06.94zm-11 1L8.5 8.5l.94-2.06 2.06-.94-2.06-.94L8.5 2.5l-.94 2.06-2.06.94zm10 10l.94 2.06.94-2.06 2.06-.94-2.06-.94-.94-2.06-.94 2.06-2.06.94z\"/><path d=\"M17.41 7.96l-1.37-1.37c-.4-.4-.92-.59-1.43-.59-.52 0-1.04.2-1.43.59L10.3 9.45l-7.72 7.72c-.78.78-.78 2.05 0 2.83L4 21.41c.39.39.9.59 1.41.59.51 0 1.02-.2 1.41-.59l7.78-7.78 2.81-2.81c.8-.78.8-2.07 0-2.86zM5.41 20L4 18.59l7.72-7.72 1.47 1.35L5.41 20z\"/>\n",
              "  </svg>\n",
              "      </button>\n",
              "      \n",
              "  <style>\n",
              "    .colab-df-container {\n",
              "      display:flex;\n",
              "      flex-wrap:wrap;\n",
              "      gap: 12px;\n",
              "    }\n",
              "\n",
              "    .colab-df-convert {\n",
              "      background-color: #E8F0FE;\n",
              "      border: none;\n",
              "      border-radius: 50%;\n",
              "      cursor: pointer;\n",
              "      display: none;\n",
              "      fill: #1967D2;\n",
              "      height: 32px;\n",
              "      padding: 0 0 0 0;\n",
              "      width: 32px;\n",
              "    }\n",
              "\n",
              "    .colab-df-convert:hover {\n",
              "      background-color: #E2EBFA;\n",
              "      box-shadow: 0px 1px 2px rgba(60, 64, 67, 0.3), 0px 1px 3px 1px rgba(60, 64, 67, 0.15);\n",
              "      fill: #174EA6;\n",
              "    }\n",
              "\n",
              "    [theme=dark] .colab-df-convert {\n",
              "      background-color: #3B4455;\n",
              "      fill: #D2E3FC;\n",
              "    }\n",
              "\n",
              "    [theme=dark] .colab-df-convert:hover {\n",
              "      background-color: #434B5C;\n",
              "      box-shadow: 0px 1px 3px 1px rgba(0, 0, 0, 0.15);\n",
              "      filter: drop-shadow(0px 1px 2px rgba(0, 0, 0, 0.3));\n",
              "      fill: #FFFFFF;\n",
              "    }\n",
              "  </style>\n",
              "\n",
              "      <script>\n",
              "        const buttonEl =\n",
              "          document.querySelector('#df-732c69c5-3685-419a-84bf-34faceee5706 button.colab-df-convert');\n",
              "        buttonEl.style.display =\n",
              "          google.colab.kernel.accessAllowed ? 'block' : 'none';\n",
              "\n",
              "        async function convertToInteractive(key) {\n",
              "          const element = document.querySelector('#df-732c69c5-3685-419a-84bf-34faceee5706');\n",
              "          const dataTable =\n",
              "            await google.colab.kernel.invokeFunction('convertToInteractive',\n",
              "                                                     [key], {});\n",
              "          if (!dataTable) return;\n",
              "\n",
              "          const docLinkHtml = 'Like what you see? Visit the ' +\n",
              "            '<a target=\"_blank\" href=https://colab.research.google.com/notebooks/data_table.ipynb>data table notebook</a>'\n",
              "            + ' to learn more about interactive tables.';\n",
              "          element.innerHTML = '';\n",
              "          dataTable['output_type'] = 'display_data';\n",
              "          await google.colab.output.renderOutput(dataTable, element);\n",
              "          const docLink = document.createElement('div');\n",
              "          docLink.innerHTML = docLinkHtml;\n",
              "          element.appendChild(docLink);\n",
              "        }\n",
              "      </script>\n",
              "    </div>\n",
              "  </div>\n",
              "  "
            ]
          },
          "metadata": {},
          "execution_count": 3
        }
      ]
    },
    {
      "cell_type": "code",
      "source": [
        "retornos_diarios = yf.download('WEGE3.SA', start = '2022-07-01').Close.pct_change()"
      ],
      "metadata": {
        "colab": {
          "base_uri": "https://localhost:8080/"
        },
        "id": "T1GFN-yy49nx",
        "outputId": "28101f2e-3a50-4ff8-883f-6428cc65de85"
      },
      "execution_count": 4,
      "outputs": [
        {
          "output_type": "stream",
          "name": "stdout",
          "text": [
            "\r[*********************100%***********************]  1 of 1 completed\n"
          ]
        }
      ]
    },
    {
      "cell_type": "code",
      "source": [
        "retornos_diarios.std()"
      ],
      "metadata": {
        "colab": {
          "base_uri": "https://localhost:8080/"
        },
        "id": "dFMf9rYz5C1S",
        "outputId": "77b4378f-7504-465b-af5c-f6f55f2e95fa"
      },
      "execution_count": 6,
      "outputs": [
        {
          "output_type": "execute_result",
          "data": {
            "text/plain": [
              "0.01936258827404938"
            ]
          },
          "metadata": {},
          "execution_count": 6
        }
      ]
    },
    {
      "cell_type": "code",
      "source": [
        "np.std(retornos_diarios)"
      ],
      "metadata": {
        "colab": {
          "base_uri": "https://localhost:8080/"
        },
        "id": "Rg7yOUzk5J3h",
        "outputId": "dbfd945e-2cc2-425e-babd-e1101646936f"
      },
      "execution_count": 8,
      "outputs": [
        {
          "output_type": "execute_result",
          "data": {
            "text/plain": [
              "0.01865825692500816"
            ]
          },
          "metadata": {},
          "execution_count": 8
        }
      ]
    },
    {
      "cell_type": "code",
      "source": [
        "retornos_diarios.std(ddof=0)"
      ],
      "metadata": {
        "colab": {
          "base_uri": "https://localhost:8080/"
        },
        "id": "gYHGqeZT5-uv",
        "outputId": "d049057f-c9e7-4f5b-e423-db05b47c47bd"
      },
      "execution_count": 11,
      "outputs": [
        {
          "output_type": "execute_result",
          "data": {
            "text/plain": [
              "0.01865825692500816"
            ]
          },
          "metadata": {},
          "execution_count": 11
        }
      ]
    },
    {
      "cell_type": "code",
      "source": [
        ""
      ],
      "metadata": {
        "id": "91qpymSy6EXS"
      },
      "execution_count": null,
      "outputs": []
    },
    {
      "cell_type": "code",
      "source": [
        ""
      ],
      "metadata": {
        "id": "B4F02ZcV6EOD"
      },
      "execution_count": null,
      "outputs": []
    },
    {
      "cell_type": "code",
      "source": [
        ""
      ],
      "metadata": {
        "id": "fRekVSUW6EEx"
      },
      "execution_count": null,
      "outputs": []
    },
    {
      "cell_type": "code",
      "source": [
        ""
      ],
      "metadata": {
        "id": "Qp7PSiR16D6k"
      },
      "execution_count": null,
      "outputs": []
    },
    {
      "cell_type": "code",
      "source": [
        ""
      ],
      "metadata": {
        "id": "WnyNpve85-hj"
      },
      "execution_count": null,
      "outputs": []
    },
    {
      "cell_type": "markdown",
      "source": [
        "### **Numpy: Desvio-padrão da população**"
      ],
      "metadata": {
        "id": "qteEY9Rb5cjp"
      }
    },
    {
      "cell_type": "markdown",
      "source": [
        "<img src=\"https://static.wixstatic.com/media/04641b_66d7a86380d04e45831caaf49bec1006~mv2.png/v1/fill/w_360,h_115,al_c,lg_1,q_90/04641b_66d7a86380d04e45831caaf49bec1006~mv2.webp\" width=\"300\" align=\"left\"/>"
      ],
      "metadata": {
        "id": "nTXCOZTg5iLW"
      }
    },
    {
      "cell_type": "markdown",
      "source": [
        "### **Pandas: Desvio-padrão da amostra**"
      ],
      "metadata": {
        "id": "FltzJ0wH5W_z"
      }
    },
    {
      "cell_type": "markdown",
      "source": [
        "<img src=\"https://static.wixstatic.com/media/04641b_aee23e2351f646cfbdaad2374dcc3d4a~mv2.png/v1/fill/w_360,h_115,al_c,lg_1,q_90/04641b_aee23e2351f646cfbdaad2374dcc3d4a~mv2.webp\" width=\"300\" align=\"left\"/>"
      ],
      "metadata": {
        "id": "LVJRzAqX5LSw"
      }
    },
    {
      "cell_type": "code",
      "source": [
        ""
      ],
      "metadata": {
        "id": "UgR5a-zV5VLC"
      },
      "execution_count": null,
      "outputs": []
    }
  ],
  "metadata": {
    "colab": {
      "name": "Diferença entre Pandas e Numpy - Standard Deviation.ipynb",
      "provenance": [],
      "collapsed_sections": [],
      "include_colab_link": true
    },
    "interpreter": {
      "hash": "e06b40c6137042d8892c2eda6f37a8f74933dd747fa61ea5f8a3936389984de1"
    },
    "kernelspec": {
      "display_name": "Python 3.9.7 ('base')",
      "language": "python",
      "name": "python3"
    },
    "language_info": {
      "codemirror_mode": {
        "name": "ipython",
        "version": 3
      },
      "file_extension": ".py",
      "mimetype": "text/x-python",
      "name": "python",
      "nbconvert_exporter": "python",
      "pygments_lexer": "ipython3",
      "version": "3.9.7"
    }
  },
  "nbformat": 4,
  "nbformat_minor": 0
}