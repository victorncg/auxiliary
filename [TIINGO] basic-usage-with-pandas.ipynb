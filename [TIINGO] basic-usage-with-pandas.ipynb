{
 "cells": [
  {
   "cell_type": "markdown",
   "metadata": {},
   "source": [
    "# Tiingo-Python\n",
    "\n",
    "\n",
    "This notebook shows basic usage of the `tiingo-python` library. If you're running this on `mybinder.org`, you can run this code without installing anything on your computer. You can find more information about what available at the [Tiingo website](https://api.tiingo.com/docs/general/overview), but this notebook will let you play around with real code samples in your browser.\n",
    "\n",
    "If you've never used `jupyter` before, I recommend this [tutorial](https://www.datacamp.com/community/tutorials/tutorial-jupyter-notebook) from Datacamp."
   ]
  },
  {
   "cell_type": "markdown",
   "metadata": {},
   "source": [
    "## Basic Setup\n",
    "\n",
    "First, you'll need to provide your API key as a string in the cell below. If you forget to do this, the notebook cannot run. You can find your API key by visiting [this link](https://www.tiingo.com/account/api/token) and logging in to your Tiingo account."
   ]
  },
  {
   "cell_type": "code",
   "execution_count": 1,
   "metadata": {},
   "outputs": [],
   "source": [
    "TIINGO_API_KEY = 'REPLACE-THIS-TEXT-WITH-A-REAL-API-KEY'\n",
    "\n",
    "# This is here to remind you to change your API key.\n",
    "if not TIINGO_API_KEY or (TIINGO_API_KEY == 'REPLACE-THIS-TEXT-WITH-A-REAL-API-KEY'):\n",
    "    raise Exception(\"Please provide a valid Tiingo API key!\")"
   ]
  },
  {
   "cell_type": "code",
   "execution_count": 2,
   "metadata": {},
   "outputs": [],
   "source": [
    "from tiingo import TiingoClient\n",
    "\n",
    "config = {\n",
    "    'api_key': TIINGO_API_KEY,\n",
    "    'session': True # Reuse HTTP sessions across API calls for better performance\n",
    "}\n",
    "\n",
    "# Throughout the rest of this notebook, you'll use the \"client\" to interact with the Tiingo backend services.\n",
    "client = TiingoClient(config)"
   ]
  },
  {
   "cell_type": "markdown",
   "metadata": {},
   "source": [
    "## Minimal Data Fetching Examples\n",
    "\n",
    "Below are the code samples from the `README.rst` along with sample outputs, but this is just the tip of the iceberg of this library's capabilities. "
   ]
  },
  {
   "cell_type": "code",
   "execution_count": 3,
   "metadata": {},
   "outputs": [
    {
     "name": "stdout",
     "output_type": "stream",
     "text": [
      "{'exchangeCode': 'NASDAQ', 'endDate': '2019-01-30', 'startDate': '2004-08-19', 'ticker': 'GOOGL', 'description': \"Google Inc. (Google) is a global technology company. The Company's business is primarily focused around key areas, such as search, advertising, operating systems and platforms, enterprise and hardware products. The Company generates revenue primarily by delivering online advertising. The Company also generates revenues from Motorola by selling hardware products. The Company provides its products and services in more than 100 languages and in more than 50 countries, regions, and territories. Effective May 16, 2014, Google Inc acquired Quest Visual Inc. Effective May 20, 2014, Google Inc acquired Enterproid Inc, doing business as Divide. In June 2014, Google Inc acquired mDialog Corp. Effective June 25, 2014, Google Inc acquired Appurify Inc, a San Francisco-based developer of mobile bugging application software.\", 'name': 'Alphabet Inc.(\"Google\") - Class A'}\n"
     ]
    }
   ],
   "source": [
    "# Get Ticker Metadata for the stock \"GOOGL\"\n",
    "ticker_metadata = client.get_ticker_metadata(\"GOOGL\")\n",
    "print(ticker_metadata)"
   ]
  },
  {
   "cell_type": "code",
   "execution_count": 4,
   "metadata": {},
   "outputs": [
    {
     "name": "stdout",
     "output_type": "stream",
     "text": [
      "[{'adjClose': 1097.99, 'adjHigh': 1099.52, 'adjLow': 1076.64, 'adjOpen': 1077.36, 'adjVolume': 1450619, 'close': 1097.99, 'date': '2019-01-30T00:00:00+00:00', 'divCash': 0.0, 'high': 1099.52, 'low': 1076.64, 'open': 1077.36, 'splitFactor': 1.0, 'volume': 1450619}]\n"
     ]
    }
   ],
   "source": [
    "# Get latest prices, based on 3+ sources as JSON, sampled weekly\n",
    "ticker_price = client.get_ticker_price(\"GOOGL\", frequency=\"weekly\")\n",
    "print(ticker_price)"
   ]
  },
  {
   "cell_type": "markdown",
   "metadata": {},
   "source": [
    "For values of `frequency`:\n",
    "\n",
    "You can specify any of the end of day frequencies (daily, weekly, monthly, and annually) or any intraday frequency for both the ``get_ticker_price`` and ``get_dataframe`` methods.  Weekly frequencies resample to the end of day on Friday, monthly frequencies resample to the last day of the month, and annually frequencies resample to the end of day on 12-31 of each year.  The intraday frequencies are specified using an integer followed by `Min` or `Hour`, for example `30Min` or `1Hour`."
   ]
  },
  {
   "cell_type": "code",
   "execution_count": 5,
   "metadata": {},
   "outputs": [
    {
     "name": "stdout",
     "output_type": "stream",
     "text": [
      "[{'date': '2017-08-01T00:00:00.000Z', 'close': 946.56, 'high': 954.49, 'low': 944.96, 'open': 947.81, 'volume': 1205799, 'adjClose': 946.56, 'adjHigh': 954.49, 'adjLow': 944.96, 'adjOpen': 947.81, 'adjVolume': 1205799, 'divCash': 0.0, 'splitFactor': 1.0}, {'date': '2017-08-02T00:00:00.000Z', 'close': 947.64, 'high': 949.1, 'low': 932.521, 'open': 948.37, 'volume': 2019979, 'adjClose': 947.64, 'adjHigh': 949.1, 'adjLow': 932.521, 'adjOpen': 948.37, 'adjVolume': 2019979, 'divCash': 0.0, 'splitFactor': 1.0}]\n"
     ]
    }
   ],
   "source": [
    "# Get historical GOOGL prices from August 2017 as JSON, sampled daily\n",
    "historical_prices = client.get_ticker_price(\"GOOGL\",\n",
    "                                            fmt='json',\n",
    "                                            startDate='2017-08-01',\n",
    "                                            endDate='2017-08-31',\n",
    "                                            frequency='daily')\n",
    "\n",
    "# Print the first 2 days of data, but you will find more days of data in the overall historical_prices variable.\n",
    "print(historical_prices[:2])"
   ]
  },
  {
   "cell_type": "code",
   "execution_count": 6,
   "metadata": {},
   "outputs": [
    {
     "name": "stdout",
     "output_type": "stream",
     "text": [
      "[OrderedDict([('ticker', '000001'), ('exchange', 'SHE'), ('assetType', 'Stock'), ('priceCurrency', 'CNY'), ('startDate', '2007-08-30'), ('endDate', '2019-01-29')]), OrderedDict([('ticker', '000002'), ('exchange', 'SHE'), ('assetType', 'Stock'), ('priceCurrency', 'CNY'), ('startDate', '2000-01-04'), ('endDate', '2019-01-29')])]\n"
     ]
    }
   ],
   "source": [
    "# See what tickers are available\n",
    "# Check what tickers are available, as well as metadata about each ticker\n",
    "# including supported currency, exchange, and available start/end dates.\n",
    "tickers = client.list_stock_tickers()\n",
    "\n",
    "print(tickers[:2])"
   ]
  },
  {
   "cell_type": "markdown",
   "metadata": {},
   "source": [
    "For each ticker, you may access\n",
    "\n",
    "- `ticker`: The ticker's abbreviation\n",
    "- `exchange`: Which exchange it's traded on\n",
    "- `priceCurrency`: Currency for the prices listed for this ticker\n",
    "- `startDate`/ `endDate`: Start / End Date for Tiingo's data about this ticker\n",
    "\n",
    "Note that Tiingo is constantly adding new data sources, so the values returned from this call will probably change every day."
   ]
  },
  {
   "cell_type": "code",
   "execution_count": 7,
   "metadata": {},
   "outputs": [],
   "source": [
    "# Search news articles about particular tickers\n",
    "# This method will not work error if you do not have a paid Tiingo account associated with your API key.\n",
    "articles = client.get_news(tickers=['GOOGL', 'AAPL'],\n",
    "                           tags=['Laptops'],\n",
    "                           sources=['washingtonpost.com'],\n",
    "                           startDate='2017-01-01',\n",
    "                           endDate='2017-08-31')"
   ]
  },
  {
   "cell_type": "code",
   "execution_count": 8,
   "metadata": {},
   "outputs": [
    {
     "data": {
      "text/plain": [
       "{'publishedDate': '2018-10-30T19:33:13Z',\n",
       " 'crawlDate': '2018-10-30T19:49:31.438654Z',\n",
       " 'title': 'It’s not clear which MacBook laptop to buy anymore',\n",
       " 'url': 'https://qz.com/1444562/which-macbook-should-you-get-any-of-them/',\n",
       " 'description': 'Which new Apple MacBook should you get? Maybe an iPad.',\n",
       " 'id': 13583735,\n",
       " 'tags': ['Apple',\n",
       "  'Apple October Event',\n",
       "  'Edited By Matt Quinn',\n",
       "  'Gadgets',\n",
       "  'Information Technology',\n",
       "  'Laptops',\n",
       "  'Macbook',\n",
       "  'Macbook Air',\n",
       "  'Macbook Pro',\n",
       "  'Stock',\n",
       "  'Technology'],\n",
       " 'tickers': ['aapl'],\n",
       " 'source': 'qz.com'}"
      ]
     },
     "execution_count": 8,
     "metadata": {},
     "output_type": "execute_result"
    }
   ],
   "source": [
    "# Display a sample article\n",
    "articles[0]"
   ]
  },
  {
   "cell_type": "markdown",
   "metadata": {},
   "source": [
    "## Basic Pandas Dataframe Examples\n",
    "\n",
    "Pandas is a popular python library for data analysis an manipulation. We provide out-of-the-box support for returning responses from Tiingo as Python Dataframes. If you are unfamiliar with `pandas`, I recommend the `Mode Notebooks` [python data analysis tutorial](https://mode.com/python-tutorial/)."
   ]
  },
  {
   "cell_type": "code",
   "execution_count": 9,
   "metadata": {},
   "outputs": [],
   "source": [
    "# Boilerplate to make pandas charts render inline in jupyter\n",
    "import matplotlib.pyplot as plt\n",
    "%matplotlib inline  "
   ]
  },
  {
   "cell_type": "code",
   "execution_count": 10,
   "metadata": {},
   "outputs": [],
   "source": [
    "# Scan some historical Google data\n",
    "ticker_history_df = client.get_dataframe(\"GOOGL\",\n",
    "                                         startDate='2018-05-15',\n",
    "                                         endDate='2018-05-31',\n",
    "                                         frequency='daily')"
   ]
  },
  {
   "cell_type": "code",
   "execution_count": 11,
   "metadata": {},
   "outputs": [
    {
     "data": {
      "text/plain": [
       "Index(['adjClose', 'adjHigh', 'adjLow', 'adjOpen', 'adjVolume', 'close',\n",
       "       'divCash', 'high', 'low', 'open', 'splitFactor', 'volume'],\n",
       "      dtype='object')"
      ]
     },
     "execution_count": 11,
     "metadata": {},
     "output_type": "execute_result"
    }
   ],
   "source": [
    "# Check which columns you'd like to work with\n",
    "ticker_history_df.columns"
   ]
  },
  {
   "cell_type": "code",
   "execution_count": 12,
   "metadata": {},
   "outputs": [
    {
     "data": {
      "text/html": [
       "<div>\n",
       "<style scoped>\n",
       "    .dataframe tbody tr th:only-of-type {\n",
       "        vertical-align: middle;\n",
       "    }\n",
       "\n",
       "    .dataframe tbody tr th {\n",
       "        vertical-align: top;\n",
       "    }\n",
       "\n",
       "    .dataframe thead th {\n",
       "        text-align: right;\n",
       "    }\n",
       "</style>\n",
       "<table border=\"1\" class=\"dataframe\">\n",
       "  <thead>\n",
       "    <tr style=\"text-align: right;\">\n",
       "      <th></th>\n",
       "      <th>adjClose</th>\n",
       "      <th>adjHigh</th>\n",
       "      <th>adjLow</th>\n",
       "      <th>adjOpen</th>\n",
       "      <th>adjVolume</th>\n",
       "      <th>close</th>\n",
       "      <th>divCash</th>\n",
       "      <th>high</th>\n",
       "      <th>low</th>\n",
       "      <th>open</th>\n",
       "      <th>splitFactor</th>\n",
       "      <th>volume</th>\n",
       "    </tr>\n",
       "    <tr>\n",
       "      <th>date</th>\n",
       "      <th></th>\n",
       "      <th></th>\n",
       "      <th></th>\n",
       "      <th></th>\n",
       "      <th></th>\n",
       "      <th></th>\n",
       "      <th></th>\n",
       "      <th></th>\n",
       "      <th></th>\n",
       "      <th></th>\n",
       "      <th></th>\n",
       "      <th></th>\n",
       "    </tr>\n",
       "  </thead>\n",
       "  <tbody>\n",
       "    <tr>\n",
       "      <th>2018-05-15 00:00:00+00:00</th>\n",
       "      <td>1084.87</td>\n",
       "      <td>1099.12</td>\n",
       "      <td>1078.78</td>\n",
       "      <td>1096.90</td>\n",
       "      <td>1786926</td>\n",
       "      <td>1084.87</td>\n",
       "      <td>0.0</td>\n",
       "      <td>1099.12</td>\n",
       "      <td>1078.78</td>\n",
       "      <td>1096.90</td>\n",
       "      <td>1.0</td>\n",
       "      <td>1786926</td>\n",
       "    </tr>\n",
       "    <tr>\n",
       "      <th>2018-05-16 00:00:00+00:00</th>\n",
       "      <td>1084.09</td>\n",
       "      <td>1094.38</td>\n",
       "      <td>1081.63</td>\n",
       "      <td>1085.09</td>\n",
       "      <td>1281406</td>\n",
       "      <td>1084.09</td>\n",
       "      <td>0.0</td>\n",
       "      <td>1094.38</td>\n",
       "      <td>1081.63</td>\n",
       "      <td>1085.09</td>\n",
       "      <td>1.0</td>\n",
       "      <td>1281406</td>\n",
       "    </tr>\n",
       "    <tr>\n",
       "      <th>2018-05-17 00:00:00+00:00</th>\n",
       "      <td>1081.26</td>\n",
       "      <td>1091.00</td>\n",
       "      <td>1076.42</td>\n",
       "      <td>1081.46</td>\n",
       "      <td>1286907</td>\n",
       "      <td>1081.26</td>\n",
       "      <td>0.0</td>\n",
       "      <td>1091.00</td>\n",
       "      <td>1076.42</td>\n",
       "      <td>1081.46</td>\n",
       "      <td>1.0</td>\n",
       "      <td>1286907</td>\n",
       "    </tr>\n",
       "    <tr>\n",
       "      <th>2018-05-18 00:00:00+00:00</th>\n",
       "      <td>1069.64</td>\n",
       "      <td>1073.73</td>\n",
       "      <td>1064.68</td>\n",
       "      <td>1066.00</td>\n",
       "      <td>1774149</td>\n",
       "      <td>1069.64</td>\n",
       "      <td>0.0</td>\n",
       "      <td>1073.73</td>\n",
       "      <td>1064.68</td>\n",
       "      <td>1066.00</td>\n",
       "      <td>1.0</td>\n",
       "      <td>1774149</td>\n",
       "    </tr>\n",
       "    <tr>\n",
       "      <th>2018-05-21 00:00:00+00:00</th>\n",
       "      <td>1084.01</td>\n",
       "      <td>1093.30</td>\n",
       "      <td>1078.00</td>\n",
       "      <td>1079.00</td>\n",
       "      <td>1258999</td>\n",
       "      <td>1084.01</td>\n",
       "      <td>0.0</td>\n",
       "      <td>1093.30</td>\n",
       "      <td>1078.00</td>\n",
       "      <td>1079.00</td>\n",
       "      <td>1.0</td>\n",
       "      <td>1258999</td>\n",
       "    </tr>\n",
       "  </tbody>\n",
       "</table>\n",
       "</div>"
      ],
      "text/plain": [
       "                           adjClose  adjHigh   adjLow  adjOpen  adjVolume  \\\n",
       "date                                                                        \n",
       "2018-05-15 00:00:00+00:00   1084.87  1099.12  1078.78  1096.90    1786926   \n",
       "2018-05-16 00:00:00+00:00   1084.09  1094.38  1081.63  1085.09    1281406   \n",
       "2018-05-17 00:00:00+00:00   1081.26  1091.00  1076.42  1081.46    1286907   \n",
       "2018-05-18 00:00:00+00:00   1069.64  1073.73  1064.68  1066.00    1774149   \n",
       "2018-05-21 00:00:00+00:00   1084.01  1093.30  1078.00  1079.00    1258999   \n",
       "\n",
       "                             close  divCash     high      low     open  \\\n",
       "date                                                                     \n",
       "2018-05-15 00:00:00+00:00  1084.87      0.0  1099.12  1078.78  1096.90   \n",
       "2018-05-16 00:00:00+00:00  1084.09      0.0  1094.38  1081.63  1085.09   \n",
       "2018-05-17 00:00:00+00:00  1081.26      0.0  1091.00  1076.42  1081.46   \n",
       "2018-05-18 00:00:00+00:00  1069.64      0.0  1073.73  1064.68  1066.00   \n",
       "2018-05-21 00:00:00+00:00  1084.01      0.0  1093.30  1078.00  1079.00   \n",
       "\n",
       "                           splitFactor   volume  \n",
       "date                                             \n",
       "2018-05-15 00:00:00+00:00          1.0  1786926  \n",
       "2018-05-16 00:00:00+00:00          1.0  1281406  \n",
       "2018-05-17 00:00:00+00:00          1.0  1286907  \n",
       "2018-05-18 00:00:00+00:00          1.0  1774149  \n",
       "2018-05-21 00:00:00+00:00          1.0  1258999  "
      ]
     },
     "execution_count": 12,
     "metadata": {},
     "output_type": "execute_result"
    }
   ],
   "source": [
    "# Browse the first few entries of the raw data\n",
    "ticker_history_df.head(5)"
   ]
  },
  {
   "cell_type": "code",
   "execution_count": 13,
   "metadata": {},
   "outputs": [
    {
     "data": {
      "text/plain": [
       "array([<matplotlib.axes._subplots.AxesSubplot object at 0x126e7e240>,\n",
       "       <matplotlib.axes._subplots.AxesSubplot object at 0x128ee9160>],\n",
       "      dtype=object)"
      ]
     },
     "execution_count": 13,
     "metadata": {},
     "output_type": "execute_result"
    },
    {
     "data": {
      "image/png": "[encoded data removed]",
      "text/plain": [
       "<Figure size 432x288 with 2 Axes>"
      ]
     },
     "metadata": {
      "needs_background": "light"
     },
     "output_type": "display_data"
    }
   ],
   "source": [
    "# View your columns of data on separate plots\n",
    "columns_to_plot = ['adjClose', 'adjOpen']\n",
    "ticker_history_df[columns_to_plot].plot.line(subplots=True)"
   ]
  },
  {
   "cell_type": "code",
   "execution_count": 14,
   "metadata": {},
   "outputs": [
    {
     "data": {
      "text/plain": [
       "<matplotlib.axes._subplots.AxesSubplot at 0x129002940>"
      ]
     },
     "execution_count": 14,
     "metadata": {},
     "output_type": "execute_result"
    },
    {
     "data": {
      "image/png": "[encoded data removed]",
      "text/plain": [
       "<Figure size 432x288 with 1 Axes>"
      ]
     },
     "metadata": {
      "needs_background": "light"
     },
     "output_type": "display_data"
    }
   ],
   "source": [
    "# Plot multiple columns of data in the same chart\n",
    "ticker_history_df[columns_to_plot].plot.line(subplots=False)"
   ]
  },
  {
   "cell_type": "code",
   "execution_count": 15,
   "metadata": {},
   "outputs": [
    {
     "data": {
      "text/plain": [
       "<matplotlib.axes._subplots.AxesSubplot at 0x1290cda20>"
      ]
     },
     "execution_count": 15,
     "metadata": {},
     "output_type": "execute_result"
    },
    {
     "data": {
      "image/png": "[encoded data removed]",
      "text/plain": [
       "<Figure size 432x288 with 1 Axes>"
      ]
     },
     "metadata": {
      "needs_background": "light"
     },
     "output_type": "display_data"
    }
   ],
   "source": [
    "# Make a histogram to see what typical trading volumes are\n",
    "ticker_history_df.volume.hist()"
   ]
  },
  {
   "cell_type": "code",
   "execution_count": null,
   "metadata": {},
   "outputs": [],
   "source": [
    "# You may also fetch data for multiple tickers at once, as long as you are only interested in 1 metric\n",
    "# at a time. If you need to compare multiple metrics, you must fetch the data 1 \n",
    "# Here we compare Google with Apple's trading volume.\n",
    "multiple_ticker_history_df = client.get_dataframe(['GOOGL', 'AAPL'],\n",
    "                                                  frequency='weekly',\n",
    "                                                  metric_name='volume',\n",
    "                                                  startDate='2018-01-01',\n",
    "                                                  endDate='2018-07-31')"
   ]
  },
  {
   "cell_type": "code",
   "execution_count": 17,
   "metadata": {},
   "outputs": [
    {
     "name": "stderr",
     "output_type": "stream",
     "text": [
      "/Users/cameron/.pyenv/versions/3.7.1/envs/jupyter3/lib/python3.7/site-packages/pandas/core/arrays/datetimes.py:1172: UserWarning: Converting to PeriodArray/Index representation will drop timezone information.\n",
      "  \"will drop timezone information.\", UserWarning)\n"
     ]
    },
    {
     "data": {
      "text/plain": [
       "<matplotlib.axes._subplots.AxesSubplot at 0x1291cf9e8>"
      ]
     },
     "execution_count": 17,
     "metadata": {},
     "output_type": "execute_result"
    },
    {
     "data": {
      "image/png": "[encoded data removed]",
      "text/plain": [
       "<Figure size 432x288 with 1 Axes>"
      ]
     },
     "metadata": {
      "needs_background": "light"
     },
     "output_type": "display_data"
    }
   ],
   "source": [
    "# Compare the companies: AAPL's volume seems to be much more volatile in the first half of 2018.\n",
    "multiple_ticker_history_df.plot.line()"
   ]
  },
  {
   "cell_type": "markdown",
   "metadata": {},
   "source": [
    "You now have all the tools you need to access the data! We look forward to seeing what you will make with `Tiingo`"
   ]
  }
 ],
 "metadata": {
  "kernelspec": {
   "display_name": "Python 3 (ipykernel)",
   "language": "python",
   "name": "python3"
  },
  "language_info": {
   "codemirror_mode": {
    "name": "ipython",
    "version": 3
   },
   "file_extension": ".py",
   "mimetype": "text/x-python",
   "name": "python",
   "nbconvert_exporter": "python",
   "pygments_lexer": "ipython3",
   "version": "3.10.12"
  }
 },
 "nbformat": 4,
 "nbformat_minor": 2
}
